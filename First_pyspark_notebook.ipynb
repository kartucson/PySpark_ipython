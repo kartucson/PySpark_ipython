{
 "metadata": {
  "name": "",
  "signature": "sha256:f31ca17078e3ee1ca17e599cef458113c90c1bb5f59de1664bc66b9f5bdf7854"
 },
 "nbformat": 3,
 "nbformat_minor": 0,
 "worksheets": [
  {
   "cells": [
    {
     "cell_type": "code",
     "collapsed": false,
     "input": [
      "import os\n",
      "import sys\n",
      "\n",
      "os.environ['SPARK_HOME']=\"G:/Spark/spark-1.5.1-bin-hadoop2.6\"\n",
      "\n",
      "sys.path.append(\"G:/Spark/spark-1.5.1-bin-hadoop2.6/bin\") \n",
      "sys.path.append(\"G:/Spark/spark-1.5.1-bin-hadoop2.6/python\") \n",
      "sys.path.append(\"G:/Spark/spark-1.5.1-bin-hadoop2.6/python/pyspark/\") \n",
      "sys.path.append(\"G:/Spark/spark-1.5.1-bin-hadoop2.6/python/lib\") \n",
      "sys.path.append(\"G:/Spark/spark-1.5.1-bin-hadoop2.6/python/lib/pyspark.zip\")\n",
      "sys.path.append(\"G:/Spark/spark-1.5.1-bin-hadoop2.6/python/lib/py4j-0.8.2.1-src.zip\") \n",
      "sys.path.append(\"G:/Spark/spark-1.5.1-bin-hadoop2.6/python/lib/pyspark.zip\")\n",
      "\n",
      "from pyspark import SparkContext \n",
      "from pyspark import SparkConf"
     ],
     "language": "python",
     "metadata": {},
     "outputs": [],
     "prompt_number": 1
    },
    {
     "cell_type": "code",
     "collapsed": false,
     "input": [
      "logFile = \"README.md\"  # Should be some file on your system\n",
      "sc = SparkContext(\"local\", \"Simple App\")\n",
      "logData = sc.textFile(logFile).cache()\n",
      "\n",
      "numAs = logData.filter(lambda s: 'a' in s).count()\n",
      "numBs = logData.filter(lambda s: 'b' in s).count()\n",
      "\n",
      "print \"Lines with a: %i, lines with b: %i\" % (numAs, numBs)"
     ],
     "language": "python",
     "metadata": {},
     "outputs": [
      {
       "output_type": "stream",
       "stream": "stdout",
       "text": [
        "Lines with a: 60, lines with b: 29\n"
       ]
      }
     ],
     "prompt_number": 2
    },
    {
     "cell_type": "code",
     "collapsed": false,
     "input": [],
     "language": "python",
     "metadata": {},
     "outputs": []
    }
   ],
   "metadata": {}
  }
 ]
}